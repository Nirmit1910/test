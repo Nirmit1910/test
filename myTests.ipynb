{
  "nbformat": 4,
  "nbformat_minor": 0,
  "metadata": {
    "colab": {
      "name": "myTests.ipynb",
      "provenance": [],
      "authorship_tag": "ABX9TyPda4bfj5fneBFqL2tAq1lk",
      "include_colab_link": true
    },
    "kernelspec": {
      "name": "python3",
      "display_name": "Python 3"
    }
  },
  "cells": [
    {
      "cell_type": "markdown",
      "metadata": {
        "id": "view-in-github",
        "colab_type": "text"
      },
      "source": [
        "<a href=\"https://colab.research.google.com/github/atulsnjena/test/blob/master/myTests.ipynb\" target=\"_parent\"><img src=\"https://colab.research.google.com/assets/colab-badge.svg\" alt=\"Open In Colab\"/></a>"
      ]
    },
    {
      "cell_type": "code",
      "metadata": {
        "colab": {
          "base_uri": "https://localhost:8080/"
        },
        "id": "k_8ebXzIC_z7",
        "outputId": "3febe1ec-e545-42b6-fdb2-6edbf02982a6"
      },
      "source": [
        "a=(1,2,3)\n",
        "b=('one','two','three')\n",
        "print(tuple(zip(a,b)))"
      ],
      "execution_count": null,
      "outputs": [
        {
          "output_type": "stream",
          "text": [
            "((1, 'one'), (2, 'two'), (3, 'three'))\n"
          ],
          "name": "stdout"
        }
      ]
    },
    {
      "cell_type": "markdown",
      "metadata": {
        "id": "EUAYduVzyFCC"
      },
      "source": [
        "## Example\n"
      ]
    },
    {
      "cell_type": "code",
      "metadata": {
        "id": "soBdb9ICyLtE"
      },
      "source": [
        ""
      ],
      "execution_count": null,
      "outputs": []
    }
  ]
}